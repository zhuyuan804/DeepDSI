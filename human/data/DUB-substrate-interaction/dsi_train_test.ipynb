{
 "cells": [
  {
   "cell_type": "code",
   "execution_count": 1,
   "outputs": [],
   "source": [
    "import pandas as pd\n",
    "import random"
   ],
   "metadata": {
    "collapsed": false,
    "pycharm": {
     "name": "#%%\n"
    }
   }
  },
  {
   "cell_type": "markdown",
   "source": [
    "## 1.读取特征"
   ],
   "metadata": {
    "collapsed": false,
    "pycharm": {
     "name": "#%% md\n"
    }
   }
  },
  {
   "cell_type": "code",
   "execution_count": 2,
   "outputs": [],
   "source": [
    "feature = pd.read_csv('../processing/feature.csv')"
   ],
   "metadata": {
    "collapsed": false,
    "pycharm": {
     "name": "#%%\n"
    }
   }
  },
  {
   "cell_type": "code",
   "execution_count": 3,
   "outputs": [],
   "source": [
    "Entry = feature['Entry'].values.tolist()\n",
    "Gene_names = feature['Gene names'].values.tolist()\n",
    "Gene_names = [str(i).split() for i in Gene_names]\n",
    "Gene_name = [i[0] for i in Gene_names]\n",
    "STRING = feature['Cross-reference (STRING)'].values.tolist()"
   ],
   "metadata": {
    "collapsed": false,
    "pycharm": {
     "name": "#%%\n"
    }
   }
  },
  {
   "cell_type": "code",
   "execution_count": 4,
   "outputs": [],
   "source": [
    "Entry_name_id_map = dict(zip(feature['Entry name'],feature.index))\n",
    "Entry_id_map = dict(zip(feature['Entry'],feature.index))\n",
    "id_Entry_map = dict(zip(feature.index,feature['Entry']))\n",
    "Entry_name_Entry_map = dict(zip(feature['Entry name'],feature['Entry']))\n",
    "STRING_id_map = dict(zip(feature['Cross-reference (STRING)'],feature.index))\n",
    "STRING_Entry_map = dict(zip(feature['Cross-reference (STRING)'],feature['Entry']))\n",
    "STRING_Gene_name_map = dict(zip(feature['Cross-reference (STRING)'],Gene_name))\n",
    "Entry_Entry_name = dict(zip(feature['Entry'],feature['Entry name']))\n",
    "Entry_Genes_name = dict(zip(feature['Entry'],Gene_names))\n",
    "Entry_Gene_name = dict(zip(feature['Entry'],Gene_name))"
   ],
   "metadata": {
    "collapsed": false,
    "pycharm": {
     "name": "#%%\n"
    }
   }
  },
  {
   "cell_type": "code",
   "execution_count": 5,
   "outputs": [],
   "source": [
    "id_Gene_map = dict(zip(feature.index,Gene_name))"
   ],
   "metadata": {
    "collapsed": false,
    "pycharm": {
     "name": "#%%\n"
    }
   }
  },
  {
   "cell_type": "markdown",
   "source": [
    "## 2.读取DUB-底物相互作用数据集"
   ],
   "metadata": {
    "collapsed": false,
    "pycharm": {
     "name": "#%% md\n"
    }
   }
  },
  {
   "cell_type": "code",
   "execution_count": 9,
   "outputs": [
    {
     "name": "stdout",
     "output_type": "stream",
     "text": [
      "(868, 15)\n",
      "(861, 15)\n"
     ]
    }
   ],
   "source": [
    "DSI = pd.read_csv('human_dsi_year.csv')\n",
    "print(DSI.shape)\n",
    "\n",
    "#删除含有模糊氨基酸编码的蛋白，例如'Q92813'(DIO2)\n",
    "DSI = DSI[(DSI['SwissProt AC (DUB)'].isin(Entry))&(DSI['SwissProt AC (Substrate)'].isin(Entry))]\n",
    "print(DSI.shape)"
   ],
   "metadata": {
    "collapsed": false,
    "pycharm": {
     "name": "#%%\n"
    }
   }
  },
  {
   "cell_type": "markdown",
   "source": [
    "## 3.划分训练集和测试集"
   ],
   "metadata": {
    "collapsed": false,
    "pycharm": {
     "name": "#%% md\n"
    }
   }
  },
  {
   "cell_type": "code",
   "execution_count": 10,
   "outputs": [
    {
     "name": "stdout",
     "output_type": "stream",
     "text": [
      "(559, 15) (302, 15)\n"
     ]
    }
   ],
   "source": [
    "dsi_train = DSI[DSI['year'] == 'before 2018.1.1'] #559\n",
    "dsi_test = DSI[DSI['year'] == 'after 2018.1.1'] #302\n",
    "\n",
    "print(dsi_train.shape,dsi_test.shape)\n"
   ],
   "metadata": {
    "collapsed": false,
    "pycharm": {
     "name": "#%%\n"
    }
   }
  },
  {
   "cell_type": "code",
   "execution_count": 12,
   "outputs": [],
   "source": [
    "# DSI.to_csv('../../networks/gsp_dsi.csv')\n"
   ],
   "metadata": {
    "collapsed": false,
    "pycharm": {
     "name": "#%%\n"
    }
   }
  },
  {
   "cell_type": "markdown",
   "source": [
    "## 4.编码 ID"
   ],
   "metadata": {
    "collapsed": false
   }
  },
  {
   "cell_type": "code",
   "execution_count": 13,
   "outputs": [],
   "source": [
    "def encoding_id(data):\n",
    "    DUB = data['SwissProt AC (DUB)']\n",
    "    substrate = data['SwissProt AC (Substrate)']\n",
    "    DUB_ID = [Entry_id_map[i]  for i in DUB]\n",
    "    substrate_ID = [Entry_id_map[i]  for i in substrate]\n",
    "    dsi = [[DUB_ID[i],substrate_ID[i]] for i in range(len(DUB_ID))]\n",
    "    return dsi"
   ],
   "metadata": {
    "collapsed": false,
    "pycharm": {
     "name": "#%%\n"
    }
   }
  },
  {
   "cell_type": "code",
   "execution_count": 14,
   "outputs": [],
   "source": [
    "gsp_train_id  = encoding_id(dsi_train) #559\n",
    "gsp_test_id = encoding_id(dsi_test) #302"
   ],
   "metadata": {
    "collapsed": false,
    "pycharm": {
     "name": "#%%\n"
    }
   }
  },
  {
   "cell_type": "code",
   "execution_count": 15,
   "outputs": [],
   "source": [
    "gsp_id = encoding_id(DSI)  #861"
   ],
   "metadata": {
    "collapsed": false,
    "pycharm": {
     "name": "#%%\n"
    }
   }
  },
  {
   "cell_type": "markdown",
   "source": [
    "## 5.输出训练集和测试集"
   ],
   "metadata": {
    "collapsed": false
   }
  },
  {
   "cell_type": "code",
   "execution_count": 37,
   "outputs": [],
   "source": [
    "def output_file(outputfile,data):\n",
    "    with open('../../networks/'+outputfile,'w') as f:\n",
    "        for row in data:\n",
    "            print(row[0],'\\t',row[1],file=f)"
   ],
   "metadata": {
    "collapsed": false,
    "pycharm": {
     "name": "#%%\n"
    }
   }
  },
  {
   "cell_type": "code",
   "execution_count": 38,
   "outputs": [],
   "source": [
    "output_file('gsp_train.txt',gsp_train_id)\n",
    "output_file('gsp_test.txt',gsp_test_id)\n",
    "# output_file('gsp.txt',gsp_id)"
   ],
   "metadata": {
    "collapsed": false,
    "pycharm": {
     "name": "#%%\n"
    }
   }
  },
  {
   "cell_type": "markdown",
   "source": [
    "## 6.string.txt构建ppi网络"
   ],
   "metadata": {
    "collapsed": false
   }
  },
  {
   "cell_type": "code",
   "execution_count": 18,
   "outputs": [
    {
     "name": "stdout",
     "output_type": "stream",
     "text": [
      "(11759454, 3)\n"
     ]
    }
   ],
   "source": [
    "string = pd.read_table('../string/ppi.txt',delimiter=\" \")\n",
    "string = string[['protein1','protein2','combined_score']]\n",
    "print(string.shape)"
   ],
   "metadata": {
    "collapsed": false,
    "pycharm": {
     "name": "#%%\n"
    }
   }
  },
  {
   "cell_type": "code",
   "execution_count": 19,
   "outputs": [
    {
     "name": "stdout",
     "output_type": "stream",
     "text": [
      "(11065260, 3)\n"
     ]
    }
   ],
   "source": [
    "string = string[string['protein1'].isin(STRING)]\n",
    "string = string[string['protein2'].isin(STRING)]\n",
    "print(string.shape)"
   ],
   "metadata": {
    "collapsed": false,
    "pycharm": {
     "name": "#%%\n"
    }
   }
  },
  {
   "cell_type": "code",
   "execution_count": 20,
   "outputs": [],
   "source": [
    "string['protein1_Entry'] = string['protein1'].apply(lambda x:STRING_Entry_map[x])\n",
    "string['protein2_Entry'] = string['protein2'].apply(lambda x:STRING_Entry_map[x])\n",
    "string['protein1_Gene'] = string['protein1'].apply(lambda x:STRING_Gene_name_map[x])\n",
    "string['protein2_Gene'] = string['protein2'].apply(lambda x:STRING_Gene_name_map[x])"
   ],
   "metadata": {
    "collapsed": false,
    "pycharm": {
     "name": "#%%\n"
    }
   }
  },
  {
   "cell_type": "code",
   "execution_count": 22,
   "outputs": [],
   "source": [
    "#STRING的PPI在Uniprot数据中有对应名字的PPI\n",
    "string.to_csv('../string/ppi_entry.txt')"
   ],
   "metadata": {
    "collapsed": false,
    "pycharm": {
     "name": "#%%\n"
    }
   }
  },
  {
   "cell_type": "markdown",
   "source": [
    "## 7.从选取金标准阴性数据集"
   ],
   "metadata": {
    "collapsed": false
   }
  },
  {
   "cell_type": "code",
   "execution_count": 23,
   "outputs": [
    {
     "name": "stdout",
     "output_type": "stream",
     "text": [
      "86 486\n"
     ]
    }
   ],
   "source": [
    "DUBs = set(DSI['SwissProt AC (DUB)'].values.tolist())\n",
    "substrates = set(DSI['SwissProt AC (Substrate)'].values.tolist())\n",
    "print(len(DUBs),len(substrates)) #DUB和底物种类数"
   ],
   "metadata": {
    "collapsed": false,
    "pycharm": {
     "name": "#%%\n"
    }
   }
  },
  {
   "cell_type": "markdown",
   "source": [
    "#### 7.1 从STRING数据库的PPI网络中选取与DUB发生相互作用但不是底物的ppi作为阴性集"
   ],
   "metadata": {
    "collapsed": false
   }
  },
  {
   "cell_type": "code",
   "execution_count": 24,
   "outputs": [
    {
     "name": "stdout",
     "output_type": "stream",
     "text": [
      "85 484 18044\n"
     ]
    }
   ],
   "source": [
    "#删除已知DSI中包含的底物\n",
    "dub = list(set([k for line in gsp_id for k,v in STRING_id_map.items() if v ==line[0]]))\n",
    "sub = list(set([k for line in gsp_id for k,v in STRING_id_map.items() if v ==line[1]]))\n",
    "sub_not = list(set(STRING)-set(sub))\n",
    "print(len(dub),len(sub),len(sub_not))"
   ],
   "metadata": {
    "collapsed": false,
    "pycharm": {
     "name": "#%%\n"
    }
   }
  },
  {
   "cell_type": "code",
   "execution_count": 25,
   "outputs": [
    {
     "name": "stdout",
     "output_type": "stream",
     "text": [
      "(58139, 7)\n"
     ]
    }
   ],
   "source": [
    "string_dub = string[string['protein1'].isin(dub)]\n",
    "print(string_dub.shape)"
   ],
   "metadata": {
    "collapsed": false,
    "pycharm": {
     "name": "#%%\n"
    }
   }
  },
  {
   "cell_type": "code",
   "execution_count": 26,
   "outputs": [
    {
     "name": "stderr",
     "output_type": "stream",
     "text": [
      "<ipython-input-26-a1f6aff759c3>:1: SettingWithCopyWarning: \n",
      "A value is trying to be set on a copy of a slice from a DataFrame.\n",
      "Try using .loc[row_indexer,col_indexer] = value instead\n",
      "\n",
      "See the caveats in the documentation: https://pandas.pydata.org/pandas-docs/stable/user_guide/indexing.html#returning-a-view-versus-a-copy\n",
      "  string_dub['DUB'] = string_dub['protein1'].apply(lambda x:STRING_Entry_map[x])\n",
      "<ipython-input-26-a1f6aff759c3>:2: SettingWithCopyWarning: \n",
      "A value is trying to be set on a copy of a slice from a DataFrame.\n",
      "Try using .loc[row_indexer,col_indexer] = value instead\n",
      "\n",
      "See the caveats in the documentation: https://pandas.pydata.org/pandas-docs/stable/user_guide/indexing.html#returning-a-view-versus-a-copy\n",
      "  string_dub['substrate'] = string_dub['protein2'].apply(lambda x:STRING_Entry_map[x])\n",
      "<ipython-input-26-a1f6aff759c3>:3: SettingWithCopyWarning: \n",
      "A value is trying to be set on a copy of a slice from a DataFrame.\n",
      "Try using .loc[row_indexer,col_indexer] = value instead\n",
      "\n",
      "See the caveats in the documentation: https://pandas.pydata.org/pandas-docs/stable/user_guide/indexing.html#returning-a-view-versus-a-copy\n",
      "  string_dub['DUB Gene name'] = string_dub['protein1'].apply(lambda x:STRING_Gene_name_map[x])\n",
      "<ipython-input-26-a1f6aff759c3>:4: SettingWithCopyWarning: \n",
      "A value is trying to be set on a copy of a slice from a DataFrame.\n",
      "Try using .loc[row_indexer,col_indexer] = value instead\n",
      "\n",
      "See the caveats in the documentation: https://pandas.pydata.org/pandas-docs/stable/user_guide/indexing.html#returning-a-view-versus-a-copy\n",
      "  string_dub['substrate Gene name'] = string_dub['protein2'].apply(lambda x:STRING_Gene_name_map[x])\n",
      "<ipython-input-26-a1f6aff759c3>:5: SettingWithCopyWarning: \n",
      "A value is trying to be set on a copy of a slice from a DataFrame.\n",
      "Try using .loc[row_indexer,col_indexer] = value instead\n",
      "\n",
      "See the caveats in the documentation: https://pandas.pydata.org/pandas-docs/stable/user_guide/indexing.html#returning-a-view-versus-a-copy\n",
      "  string_dub['DUB_id'] = string_dub['protein1'].apply(lambda x:STRING_id_map[x])\n",
      "<ipython-input-26-a1f6aff759c3>:6: SettingWithCopyWarning: \n",
      "A value is trying to be set on a copy of a slice from a DataFrame.\n",
      "Try using .loc[row_indexer,col_indexer] = value instead\n",
      "\n",
      "See the caveats in the documentation: https://pandas.pydata.org/pandas-docs/stable/user_guide/indexing.html#returning-a-view-versus-a-copy\n",
      "  string_dub['substrate_id'] = string_dub['protein2'].apply(lambda x:STRING_id_map[x])\n"
     ]
    }
   ],
   "source": [
    "string_dub['DUB'] = string_dub['protein1'].apply(lambda x:STRING_Entry_map[x])\n",
    "string_dub['substrate'] = string_dub['protein2'].apply(lambda x:STRING_Entry_map[x])\n",
    "string_dub['DUB Gene name'] = string_dub['protein1'].apply(lambda x:STRING_Gene_name_map[x])\n",
    "string_dub['substrate Gene name'] = string_dub['protein2'].apply(lambda x:STRING_Gene_name_map[x])\n",
    "string_dub['DUB_id'] = string_dub['protein1'].apply(lambda x:STRING_id_map[x])\n",
    "string_dub['substrate_id'] = string_dub['protein2'].apply(lambda x:STRING_id_map[x])"
   ],
   "metadata": {
    "collapsed": false,
    "pycharm": {
     "name": "#%%\n"
    }
   }
  },
  {
   "cell_type": "code",
   "execution_count": 29,
   "outputs": [],
   "source": [
    "string_dub.to_csv(\"../string/ppi_DUB.txt\") #STRING数据库中包含DUB的PPI"
   ],
   "metadata": {
    "collapsed": false,
    "pycharm": {
     "name": "#%%\n"
    }
   }
  },
  {
   "cell_type": "code",
   "execution_count": 30,
   "outputs": [],
   "source": [
    "string_dub = string_dub[string_dub['combined_score']>300] #得分大于300,\n",
    "# string_dub.to_csv(\"../processing/string_dsi_socre_over_300.csv\")"
   ],
   "metadata": {
    "collapsed": false,
    "pycharm": {
     "name": "#%%\n"
    }
   }
  },
  {
   "cell_type": "code",
   "execution_count": 31,
   "outputs": [],
   "source": [
    "string_select = string_dub[string_dub['protein2'].isin(sub_not)]"
   ],
   "metadata": {
    "collapsed": false,
    "pycharm": {
     "name": "#%%\n"
    }
   }
  },
  {
   "cell_type": "code",
   "execution_count": 32,
   "outputs": [],
   "source": [
    "gsn_all = []\n",
    "for row in string_select.values:\n",
    "    p1 = STRING_id_map[row[0]]\n",
    "    p2 = STRING_id_map[row[1]]\n",
    "    ppi = [p1,p2]\n",
    "    if ppi not in gsp_train_id:\n",
    "        gsn_all.append(ppi)"
   ],
   "metadata": {
    "collapsed": false,
    "pycharm": {
     "name": "#%%\n"
    }
   }
  },
  {
   "cell_type": "markdown",
   "source": [
    "#### 7.2 输出金标准阴性ppi"
   ],
   "metadata": {
    "collapsed": false
   }
  },
  {
   "cell_type": "code",
   "execution_count": 33,
   "outputs": [],
   "source": [
    "random.seed(2)\n",
    "gsn_id = random.sample(gsn_all,len(gsp_id))\n",
    "gsn_train_id = random.sample(gsn_id,len(gsp_train_id))\n",
    "gsn_test_id = [i for i in gsn_id if i not in gsn_train_id]"
   ],
   "metadata": {
    "collapsed": false,
    "pycharm": {
     "name": "#%%\n"
    }
   }
  },
  {
   "cell_type": "code",
   "execution_count": 34,
   "outputs": [],
   "source": [
    "def id_name_map(gsn_id):\n",
    "    gsn_filter = []\n",
    "    for line in gsn_id:\n",
    "        p1 = id_Entry_map[line[0]]\n",
    "        p2 = id_Entry_map[line[1]]\n",
    "        gsn_filter.append([p1,p2])\n",
    "    return gsn_filter"
   ],
   "metadata": {
    "collapsed": false,
    "pycharm": {
     "name": "#%%\n"
    }
   }
  },
  {
   "cell_type": "code",
   "execution_count": 35,
   "outputs": [],
   "source": [
    "gsn_filter = id_name_map(gsn_id)\n",
    "gsn_train_filter = id_name_map(gsn_train_id)\n",
    "gsn_test_filter = id_name_map(gsn_test_id)\n"
   ],
   "metadata": {
    "collapsed": false,
    "pycharm": {
     "name": "#%%\n"
    }
   }
  },
  {
   "cell_type": "code",
   "execution_count": 32,
   "outputs": [],
   "source": [
    "#阴性数据集的名称\n",
    "# output_file('gsn_filter.txt',gsn_filter)\n",
    "# output_file('gsn_train_filter.txt',gsn_train_filter)\n",
    "# output_file('gsn_test_filter.txt',gsn_test_filter)\n"
   ],
   "metadata": {
    "collapsed": false,
    "pycharm": {
     "name": "#%%\n"
    }
   }
  },
  {
   "cell_type": "code",
   "execution_count": 39,
   "outputs": [],
   "source": [
    "# output_file('gsn.txt',gsn_id)\n",
    "output_file('gsn_train.txt',gsn_train_id)\n",
    "output_file('gsn_test.txt',gsn_test_id)\n"
   ],
   "metadata": {
    "collapsed": false,
    "pycharm": {
     "name": "#%%\n"
    }
   }
  },
  {
   "cell_type": "markdown",
   "source": [
    "#### 输出ppi数据集"
   ],
   "metadata": {
    "collapsed": false
   }
  },
  {
   "cell_type": "code",
   "execution_count": 28,
   "outputs": [
    {
     "ename": "FileNotFoundError",
     "evalue": "[Errno 2] No such file or directory: '../networks/ppi.txt'",
     "output_type": "error",
     "traceback": [
      "\u001B[1;31m---------------------------------------------------------------------------\u001B[0m",
      "\u001B[1;31mFileNotFoundError\u001B[0m                         Traceback (most recent call last)",
      "\u001B[1;32m<ipython-input-28-72c2c980370a>\u001B[0m in \u001B[0;36m<module>\u001B[1;34m\u001B[0m\n\u001B[0;32m      1\u001B[0m \u001B[1;31m# 从string_ppi中删除金标准阳性ppi和选择的阴性ppi\u001B[0m\u001B[1;33m\u001B[0m\u001B[1;33m\u001B[0m\u001B[1;33m\u001B[0m\u001B[0m\n\u001B[1;32m----> 2\u001B[1;33m \u001B[1;32mwith\u001B[0m \u001B[0mopen\u001B[0m\u001B[1;33m(\u001B[0m\u001B[1;34m'../networks/ppi.txt'\u001B[0m\u001B[1;33m,\u001B[0m\u001B[1;34m'w'\u001B[0m\u001B[1;33m)\u001B[0m \u001B[1;32mas\u001B[0m \u001B[0mf\u001B[0m\u001B[1;33m:\u001B[0m\u001B[1;33m\u001B[0m\u001B[1;33m\u001B[0m\u001B[0m\n\u001B[0m\u001B[0;32m      3\u001B[0m     \u001B[1;32mfor\u001B[0m \u001B[0mrow\u001B[0m \u001B[1;32min\u001B[0m \u001B[0mstring\u001B[0m\u001B[1;33m.\u001B[0m\u001B[0mvalues\u001B[0m\u001B[1;33m:\u001B[0m\u001B[1;33m\u001B[0m\u001B[1;33m\u001B[0m\u001B[0m\n\u001B[0;32m      4\u001B[0m         \u001B[0mp1\u001B[0m \u001B[1;33m=\u001B[0m \u001B[0mSTRING_id_map\u001B[0m\u001B[1;33m[\u001B[0m\u001B[0mrow\u001B[0m\u001B[1;33m[\u001B[0m\u001B[1;36m0\u001B[0m\u001B[1;33m]\u001B[0m\u001B[1;33m]\u001B[0m\u001B[1;33m\u001B[0m\u001B[1;33m\u001B[0m\u001B[0m\n\u001B[0;32m      5\u001B[0m         \u001B[0mp2\u001B[0m \u001B[1;33m=\u001B[0m \u001B[0mSTRING_id_map\u001B[0m\u001B[1;33m[\u001B[0m\u001B[0mrow\u001B[0m\u001B[1;33m[\u001B[0m\u001B[1;36m1\u001B[0m\u001B[1;33m]\u001B[0m\u001B[1;33m]\u001B[0m\u001B[1;33m\u001B[0m\u001B[1;33m\u001B[0m\u001B[0m\n",
      "\u001B[1;31mFileNotFoundError\u001B[0m: [Errno 2] No such file or directory: '../networks/ppi.txt'"
     ]
    }
   ],
   "source": [
    "# 从string_ppi中删除金标准阳性ppi和选择的阴性ppi\n",
    "with open('networks/ppi.txt','w') as f:\n",
    "    for row in string.values:\n",
    "        p1 = STRING_id_map[row[0]]\n",
    "        p2 = STRING_id_map[row[1]]\n",
    "        ppi = [p1,p2]\n",
    "        if (ppi not in gsp_id) and (ppi not in gsn_id):\n",
    "            print(p1,'\\t',p2,file=f)"
   ],
   "metadata": {
    "collapsed": false,
    "pycharm": {
     "name": "#%%\n"
    }
   }
  },
  {
   "cell_type": "markdown",
   "source": [
    "## 8.从阴性数据集中选取随机对照"
   ],
   "metadata": {
    "collapsed": false
   }
  },
  {
   "cell_type": "code",
   "execution_count": 62,
   "outputs": [
    {
     "name": "stdout",
     "output_type": "stream",
     "text": [
      "57573\n",
      "5341\n"
     ]
    }
   ],
   "source": [
    "DSIs_pre = pd.read_csv(\"../output/Validation of bioinformatics methods/nogsd_string_predict_dsi.csv\")\n",
    "print(DSIs_pre.shape[0])\n",
    "DSIs_pre = DSIs_pre[DSIs_pre['score']>0.87]\n",
    "print(DSIs_pre.shape[0])"
   ],
   "metadata": {
    "collapsed": false,
    "pycharm": {
     "name": "#%%\n"
    }
   }
  },
  {
   "cell_type": "code",
   "execution_count": 63,
   "outputs": [],
   "source": [
    "def id_name_map2(gsn_id):\n",
    "    data = pd.DataFrame(columns=['DUB_Genes_name', 'substrate_Genes_name'])\n",
    "    p1_list = []\n",
    "    p2_list = []\n",
    "    p1_ = []\n",
    "    p2_ = []\n",
    "    for line in gsn_id:\n",
    "        p1 = id_Gene_map[line[0]]\n",
    "        p2 = id_Gene_map[line[1]]\n",
    "        p1_list.append(p1)\n",
    "        p2_list.append(p2)\n",
    "        p1_.append(line[0])\n",
    "        p2_.append(line[1])\n",
    "    data['DUB_Genes_name'] = p1_list\n",
    "    data['substrate_Genes_name'] = p2_list\n",
    "    data['DUB'] = p1_\n",
    "    data['substrate'] = p2_\n",
    "    return data"
   ],
   "metadata": {
    "collapsed": false,
    "pycharm": {
     "name": "#%%\n"
    }
   }
  },
  {
   "cell_type": "code",
   "execution_count": 64,
   "outputs": [
    {
     "name": "stdout",
     "output_type": "stream",
     "text": [
      "(14613, 4)\n",
      "(14591, 4)\n"
     ]
    }
   ],
   "source": [
    "gsn_filter_ = id_name_map2(gsn_all)\n",
    "print(gsn_filter_.shape)\n",
    "gsn_filter_ = gsn_filter_[gsn_filter_['DUB_Genes_name'].isin(set(DSI['Gene Symbol (DUB)'].values.tolist()))]\n",
    "print(gsn_filter_.shape)"
   ],
   "metadata": {
    "collapsed": false,
    "pycharm": {
     "name": "#%%\n"
    }
   }
  },
  {
   "cell_type": "code",
   "execution_count": 41,
   "outputs": [],
   "source": [
    "for i in range(1000):\n",
    "    gsn_filter_random_compared = gsn_filter_.sample(n = DSIs_pre.shape[0])\n",
    "    gsn_filter_random_compared.to_csv('../../circle/random/gsn_random_compared' + str(i+1)+'.csv')\n",
    "\n"
   ],
   "metadata": {
    "collapsed": false,
    "pycharm": {
     "name": "#%%\n"
    }
   }
  }
 ],
 "metadata": {
  "kernelspec": {
   "name": "pycharm-5707cf3e",
   "language": "python",
   "display_name": "PyCharm (Pytorch)"
  },
  "language_info": {
   "codemirror_mode": {
    "name": "ipython",
    "version": 2
   },
   "file_extension": ".py",
   "mimetype": "text/x-python",
   "name": "python",
   "nbconvert_exporter": "python",
   "pygments_lexer": "ipython2",
   "version": "2.7.6"
  }
 },
 "nbformat": 4,
 "nbformat_minor": 0
}